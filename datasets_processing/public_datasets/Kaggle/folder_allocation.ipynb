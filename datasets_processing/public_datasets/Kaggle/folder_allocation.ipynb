{
 "cells": [
  {
   "cell_type": "markdown",
   "source": [
    "Resize images and categorise them into train, val and test"
   ],
   "metadata": {
    "collapsed": false
   },
   "id": "dd800025cf78d349"
  },
  {
   "cell_type": "code",
   "outputs": [],
   "source": [
    "from PIL import Image\n",
    "import os\n",
    "import random\n",
    "import shutil"
   ],
   "metadata": {
    "collapsed": false,
    "ExecuteTime": {
     "end_time": "2024-12-13T00:23:08.946943Z",
     "start_time": "2024-12-13T00:23:08.874193Z"
    }
   },
   "id": "95baa5bec148dc0f",
   "execution_count": 1
  },
  {
   "cell_type": "code",
   "outputs": [],
   "source": [
    "def resize_image(image_path, size=(224, 224)):\n",
    "    image = Image.open(image_path)\n",
    "\n",
    "    resized_image = image.resize(size, Image.LANCZOS)\n",
    "\n",
    "    resized_image.save(image_path)"
   ],
   "metadata": {
    "collapsed": false,
    "ExecuteTime": {
     "end_time": "2024-12-13T00:23:10.927370Z",
     "start_time": "2024-12-13T00:23:10.923092Z"
    }
   },
   "id": "1c0b14b2d98b5dea",
   "execution_count": 2
  },
  {
   "cell_type": "code",
   "outputs": [],
   "source": [
    "data_dir = 'C:/Users/Anastasiia/Desktop/Praca_dyplomowa/Praktyka/datasets/Kaggle' \n",
    "\n",
    "# resize and crop all the images\n",
    "for class_dir in [\"cataract\", \"diabetic_retinopathy\", \"glaucoma\", \"normal\"]:\n",
    "    image_files = os.listdir(os.path.join(data_dir, class_dir))\n",
    "    for image_file in image_files:\n",
    "        image_path = os.path.join(data_dir, class_dir, image_file)\n",
    "        resize_image(image_path)\n",
    "\n",
    "train_dir = os.path.join(data_dir, 'train')\n",
    "val_dir = os.path.join(data_dir, 'val')\n",
    "test_dir = os.path.join(data_dir, 'test')\n",
    "\n",
    "os.makedirs(train_dir + \"/cataract\", exist_ok=True)\n",
    "os.makedirs(train_dir + \"/diabetic_retinopathy\", exist_ok=True)\n",
    "os.makedirs(train_dir + \"/glaucoma\", exist_ok=True)\n",
    "os.makedirs(train_dir + \"/normal\", exist_ok=True)\n",
    "os.makedirs(val_dir + \"/cataract\", exist_ok=True)\n",
    "os.makedirs(val_dir + \"/diabetic_retinopathy\", exist_ok=True)\n",
    "os.makedirs(val_dir + \"/glaucoma\", exist_ok=True)\n",
    "os.makedirs(val_dir + \"/normal\", exist_ok=True)\n",
    "os.makedirs(test_dir + \"/cataract\", exist_ok=True)\n",
    "os.makedirs(test_dir + \"/diabetic_retinopathy\", exist_ok=True)\n",
    "os.makedirs(test_dir + \"/glaucoma\", exist_ok=True)\n",
    "os.makedirs(test_dir + \"/normal\", exist_ok=True)\n",
    "  \n",
    "# getting a list of all files in each class\n",
    "for class_dir in [\"cataract\", \"diabetic_retinopathy\", \"glaucoma\", \"normal\"]:\n",
    "    files = os.listdir(os.path.join(data_dir, class_dir))\n",
    "    random.shuffle(files)  # shuffle files for random separation\n",
    "        \n",
    "    # split the files into three parts\n",
    "    train_split = int(0.7 * len(files))\n",
    "    val_split = int(0.15 * len(files)) + train_split\n",
    "        \n",
    "    train_files = files[:train_split]\n",
    "    val_files = files[train_split:val_split]\n",
    "    test_files = files[val_split:]\n",
    "        \n",
    "    # copy the files to the appropriate directories\n",
    "    for f in train_files:\n",
    "        shutil.copy(os.path.join(data_dir, class_dir, f), os.path.join(train_dir, class_dir, f))\n",
    "    for f in val_files:\n",
    "        shutil.copy(os.path.join(data_dir, class_dir, f), os.path.join(val_dir, class_dir, f))\n",
    "    for f in test_files:\n",
    "        shutil.copy(os.path.join(data_dir, class_dir, f), os.path.join(test_dir, class_dir, f))"
   ],
   "metadata": {
    "collapsed": false,
    "ExecuteTime": {
     "end_time": "2024-12-13T00:23:56.629797Z",
     "start_time": "2024-12-13T00:23:11.977959Z"
    }
   },
   "id": "17b18f7d04314cb3",
   "execution_count": 3
  },
  {
   "cell_type": "markdown",
   "source": [
    "tensorboard --logdir=C:/Users/Anastasiia/Desktop/results/finetune_Kaggle/output_dir"
   ],
   "metadata": {
    "collapsed": false
   },
   "id": "f56f9aab92d2c649"
  }
 ],
 "metadata": {
  "kernelspec": {
   "display_name": "Python 3",
   "language": "python",
   "name": "python3"
  },
  "language_info": {
   "codemirror_mode": {
    "name": "ipython",
    "version": 2
   },
   "file_extension": ".py",
   "mimetype": "text/x-python",
   "name": "python",
   "nbconvert_exporter": "python",
   "pygments_lexer": "ipython2",
   "version": "2.7.6"
  }
 },
 "nbformat": 4,
 "nbformat_minor": 5
}
