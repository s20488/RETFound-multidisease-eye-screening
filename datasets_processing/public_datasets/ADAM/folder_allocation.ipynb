{
 "cells": [
  {
   "cell_type": "markdown",
   "source": [
    "Automating file copying based on Excel list"
   ],
   "metadata": {
    "collapsed": false
   },
   "id": "177c61db7e41ef87"
  },
  {
   "cell_type": "code",
   "execution_count": 6,
   "id": "initial_id",
   "metadata": {
    "collapsed": true,
    "ExecuteTime": {
     "end_time": "2024-12-22T14:03:40.636407Z",
     "start_time": "2024-12-22T14:03:40.632866Z"
    }
   },
   "outputs": [],
   "source": [
    "import os\n",
    "import shutil\n",
    "import pandas as pd\n",
    "import random"
   ]
  },
  {
   "cell_type": "code",
   "outputs": [],
   "source": [
    "excel_file_path = 'C:/Users/Anastasiia/Desktop/ADAM/Validation/1.xlsx'\n",
    "folder_with_files = 'C:/Users/Anastasiia/Desktop/ADAM/Validation/image'\n",
    "destination_folder = 'C:/Users/Anastasiia/Desktop/ADAM/Validation/1'"
   ],
   "metadata": {
    "collapsed": false,
    "ExecuteTime": {
     "end_time": "2024-12-22T14:03:58.603593Z",
     "start_time": "2024-12-22T14:03:58.599179Z"
    }
   },
   "id": "a9ff4477086d1edf",
   "execution_count": 9
  },
  {
   "cell_type": "code",
   "outputs": [
    {
     "name": "stdout",
     "output_type": "stream",
     "text": [
      "File V0013.jpg copied to C:/Users/Anastasiia/Desktop/ADAM/Validation/1\n",
      "File V0022.jpg copied to C:/Users/Anastasiia/Desktop/ADAM/Validation/1\n",
      "File V0030.jpg copied to C:/Users/Anastasiia/Desktop/ADAM/Validation/1\n",
      "File V0033.jpg copied to C:/Users/Anastasiia/Desktop/ADAM/Validation/1\n",
      "File V0034.jpg copied to C:/Users/Anastasiia/Desktop/ADAM/Validation/1\n",
      "File V0043.jpg copied to C:/Users/Anastasiia/Desktop/ADAM/Validation/1\n",
      "File V0048.jpg copied to C:/Users/Anastasiia/Desktop/ADAM/Validation/1\n",
      "File V0050.jpg copied to C:/Users/Anastasiia/Desktop/ADAM/Validation/1\n",
      "File V0051.jpg copied to C:/Users/Anastasiia/Desktop/ADAM/Validation/1\n",
      "File V0061.jpg copied to C:/Users/Anastasiia/Desktop/ADAM/Validation/1\n",
      "File V0063.jpg copied to C:/Users/Anastasiia/Desktop/ADAM/Validation/1\n",
      "File V0078.jpg copied to C:/Users/Anastasiia/Desktop/ADAM/Validation/1\n",
      "File V0080.jpg copied to C:/Users/Anastasiia/Desktop/ADAM/Validation/1\n",
      "File V0083.jpg copied to C:/Users/Anastasiia/Desktop/ADAM/Validation/1\n",
      "File V0085.jpg copied to C:/Users/Anastasiia/Desktop/ADAM/Validation/1\n",
      "File V0087.jpg copied to C:/Users/Anastasiia/Desktop/ADAM/Validation/1\n",
      "File V0089.jpg copied to C:/Users/Anastasiia/Desktop/ADAM/Validation/1\n",
      "File V0091.jpg copied to C:/Users/Anastasiia/Desktop/ADAM/Validation/1\n",
      "File V0093.jpg copied to C:/Users/Anastasiia/Desktop/ADAM/Validation/1\n",
      "File V0099.jpg copied to C:/Users/Anastasiia/Desktop/ADAM/Validation/1\n",
      "File V0103.jpg copied to C:/Users/Anastasiia/Desktop/ADAM/Validation/1\n",
      "File V0105.jpg copied to C:/Users/Anastasiia/Desktop/ADAM/Validation/1\n",
      "File V0106.jpg copied to C:/Users/Anastasiia/Desktop/ADAM/Validation/1\n",
      "File V0108.jpg copied to C:/Users/Anastasiia/Desktop/ADAM/Validation/1\n",
      "File V0111.jpg copied to C:/Users/Anastasiia/Desktop/ADAM/Validation/1\n",
      "File V0115.jpg copied to C:/Users/Anastasiia/Desktop/ADAM/Validation/1\n",
      "File V0117.jpg copied to C:/Users/Anastasiia/Desktop/ADAM/Validation/1\n",
      "File V0119.jpg copied to C:/Users/Anastasiia/Desktop/ADAM/Validation/1\n",
      "File V0125.jpg copied to C:/Users/Anastasiia/Desktop/ADAM/Validation/1\n",
      "File V0129.jpg copied to C:/Users/Anastasiia/Desktop/ADAM/Validation/1\n",
      "File V0133.jpg copied to C:/Users/Anastasiia/Desktop/ADAM/Validation/1\n",
      "File V0135.jpg copied to C:/Users/Anastasiia/Desktop/ADAM/Validation/1\n",
      "File V0141.jpg copied to C:/Users/Anastasiia/Desktop/ADAM/Validation/1\n",
      "File V0146.jpg copied to C:/Users/Anastasiia/Desktop/ADAM/Validation/1\n",
      "File V0147.jpg copied to C:/Users/Anastasiia/Desktop/ADAM/Validation/1\n",
      "File V0151.jpg copied to C:/Users/Anastasiia/Desktop/ADAM/Validation/1\n",
      "File V0152.jpg copied to C:/Users/Anastasiia/Desktop/ADAM/Validation/1\n",
      "File V0158.jpg copied to C:/Users/Anastasiia/Desktop/ADAM/Validation/1\n",
      "File V0159.jpg copied to C:/Users/Anastasiia/Desktop/ADAM/Validation/1\n",
      "File V0161.jpg copied to C:/Users/Anastasiia/Desktop/ADAM/Validation/1\n",
      "File V0170.jpg copied to C:/Users/Anastasiia/Desktop/ADAM/Validation/1\n",
      "File V0172.jpg copied to C:/Users/Anastasiia/Desktop/ADAM/Validation/1\n",
      "File V0173.jpg copied to C:/Users/Anastasiia/Desktop/ADAM/Validation/1\n",
      "File V0180.jpg copied to C:/Users/Anastasiia/Desktop/ADAM/Validation/1\n",
      "File V0182.jpg copied to C:/Users/Anastasiia/Desktop/ADAM/Validation/1\n",
      "File V0187.jpg copied to C:/Users/Anastasiia/Desktop/ADAM/Validation/1\n",
      "File V0188.jpg copied to C:/Users/Anastasiia/Desktop/ADAM/Validation/1\n",
      "File V0190.jpg copied to C:/Users/Anastasiia/Desktop/ADAM/Validation/1\n",
      "File V0196.jpg copied to C:/Users/Anastasiia/Desktop/ADAM/Validation/1\n",
      "File V0218.jpg copied to C:/Users/Anastasiia/Desktop/ADAM/Validation/1\n",
      "File V0227.jpg copied to C:/Users/Anastasiia/Desktop/ADAM/Validation/1\n",
      "File V0233.jpg copied to C:/Users/Anastasiia/Desktop/ADAM/Validation/1\n",
      "File V0237.jpg copied to C:/Users/Anastasiia/Desktop/ADAM/Validation/1\n",
      "File V0245.jpg copied to C:/Users/Anastasiia/Desktop/ADAM/Validation/1\n",
      "File V0248.jpg copied to C:/Users/Anastasiia/Desktop/ADAM/Validation/1\n",
      "File V0251.jpg copied to C:/Users/Anastasiia/Desktop/ADAM/Validation/1\n",
      "File V0258.jpg copied to C:/Users/Anastasiia/Desktop/ADAM/Validation/1\n",
      "File V0264.jpg copied to C:/Users/Anastasiia/Desktop/ADAM/Validation/1\n",
      "File V0267.jpg copied to C:/Users/Anastasiia/Desktop/ADAM/Validation/1\n",
      "File V0269.jpg copied to C:/Users/Anastasiia/Desktop/ADAM/Validation/1\n",
      "File V0281.jpg copied to C:/Users/Anastasiia/Desktop/ADAM/Validation/1\n",
      "File V0282.jpg copied to C:/Users/Anastasiia/Desktop/ADAM/Validation/1\n",
      "File V0284.jpg copied to C:/Users/Anastasiia/Desktop/ADAM/Validation/1\n",
      "File V0297.jpg copied to C:/Users/Anastasiia/Desktop/ADAM/Validation/1\n",
      "File V0319.jpg copied to C:/Users/Anastasiia/Desktop/ADAM/Validation/1\n",
      "File V0323.jpg copied to C:/Users/Anastasiia/Desktop/ADAM/Validation/1\n",
      "File V0326.jpg copied to C:/Users/Anastasiia/Desktop/ADAM/Validation/1\n",
      "File V0327.jpg copied to C:/Users/Anastasiia/Desktop/ADAM/Validation/1\n",
      "File V0330.jpg copied to C:/Users/Anastasiia/Desktop/ADAM/Validation/1\n",
      "File V0331.jpg copied to C:/Users/Anastasiia/Desktop/ADAM/Validation/1\n",
      "File V0334.jpg copied to C:/Users/Anastasiia/Desktop/ADAM/Validation/1\n",
      "File V0337.jpg copied to C:/Users/Anastasiia/Desktop/ADAM/Validation/1\n",
      "File V0344.jpg copied to C:/Users/Anastasiia/Desktop/ADAM/Validation/1\n",
      "File V0352.jpg copied to C:/Users/Anastasiia/Desktop/ADAM/Validation/1\n",
      "File V0354.jpg copied to C:/Users/Anastasiia/Desktop/ADAM/Validation/1\n",
      "File V0357.jpg copied to C:/Users/Anastasiia/Desktop/ADAM/Validation/1\n",
      "File V0360.jpg copied to C:/Users/Anastasiia/Desktop/ADAM/Validation/1\n",
      "File V0363.jpg copied to C:/Users/Anastasiia/Desktop/ADAM/Validation/1\n",
      "File V0368.jpg copied to C:/Users/Anastasiia/Desktop/ADAM/Validation/1\n",
      "File V0369.jpg copied to C:/Users/Anastasiia/Desktop/ADAM/Validation/1\n",
      "File V0375.jpg copied to C:/Users/Anastasiia/Desktop/ADAM/Validation/1\n",
      "File V0379.jpg copied to C:/Users/Anastasiia/Desktop/ADAM/Validation/1\n",
      "File V0380.jpg copied to C:/Users/Anastasiia/Desktop/ADAM/Validation/1\n",
      "File V0388.jpg copied to C:/Users/Anastasiia/Desktop/ADAM/Validation/1\n",
      "File V0390.jpg copied to C:/Users/Anastasiia/Desktop/ADAM/Validation/1\n",
      "File V0392.jpg copied to C:/Users/Anastasiia/Desktop/ADAM/Validation/1\n",
      "File V0397.jpg copied to C:/Users/Anastasiia/Desktop/ADAM/Validation/1\n",
      "File V0399.jpg copied to C:/Users/Anastasiia/Desktop/ADAM/Validation/1\n"
     ]
    }
   ],
   "source": [
    "df = pd.read_excel(excel_file_path)\n",
    "\n",
    "file_names = df.iloc[:, 0].tolist()\n",
    "\n",
    "for file_name in file_names:\n",
    "    file_path = os.path.join(folder_with_files, file_name)\n",
    "    if os.path.exists(file_path):\n",
    "        shutil.copy(file_path, destination_folder)\n",
    "        print(f'File {file_name} copied to {destination_folder}')\n",
    "    else:\n",
    "        print(f'File {file_name} not found in {folder_with_files}')"
   ],
   "metadata": {
    "collapsed": false,
    "ExecuteTime": {
     "end_time": "2024-12-22T14:03:59.494098Z",
     "start_time": "2024-12-22T14:03:59.132558Z"
    }
   },
   "id": "ccdd2d4cf36bf20d",
   "execution_count": 10
  },
  {
   "cell_type": "markdown",
   "source": [
    "Resize images and categorise them into train, val and test"
   ],
   "metadata": {
    "collapsed": false
   },
   "id": "71653fbac4c88630"
  },
  {
   "cell_type": "code",
   "outputs": [],
   "source": [
    "def resize_image(image_path, size=(224, 224)):\n",
    "    image = Image.open(image_path)\n",
    "\n",
    "    resized_image = image.resize(size, Image.LANCZOS)\n",
    "\n",
    "    resized_image.save(image_path)"
   ],
   "metadata": {
    "collapsed": false,
    "ExecuteTime": {
     "end_time": "2024-12-22T14:04:52.123695Z",
     "start_time": "2024-12-22T14:04:52.120146Z"
    }
   },
   "id": "8b7f7f8dd4ffe52f",
   "execution_count": 11
  },
  {
   "cell_type": "markdown",
   "source": [
    "Categorising images into train, val and test"
   ],
   "metadata": {
    "collapsed": false
   },
   "id": "7aadeabaae2b2e38"
  },
  {
   "cell_type": "code",
   "outputs": [],
   "source": [
    "from PIL import Image\n",
    "import os\n",
    "import random"
   ],
   "metadata": {
    "collapsed": false,
    "ExecuteTime": {
     "end_time": "2024-12-22T14:04:52.944943Z",
     "start_time": "2024-12-22T14:04:52.941536Z"
    }
   },
   "id": "8a4288186ea86981",
   "execution_count": 12
  },
  {
   "cell_type": "code",
   "outputs": [],
   "source": [
    "data_dir = 'C:/Users/Anastasiia/Desktop/ADAM' \n",
    "\n",
    "# resize and crop all the images\n",
    "for class_dir in [\"0\", \"1\"]:\n",
    "    image_files = os.listdir(os.path.join(data_dir, class_dir))\n",
    "    for image_file in image_files:\n",
    "        image_path = os.path.join(data_dir, class_dir, image_file)\n",
    "        resize_image(image_path)\n",
    "\n",
    "train_dir = os.path.join(data_dir, 'train')\n",
    "val_dir = os.path.join(data_dir, 'val')\n",
    "test_dir = os.path.join(data_dir, 'test')\n",
    "\n",
    "os.makedirs(train_dir + \"/0\", exist_ok=True)\n",
    "os.makedirs(train_dir + \"/1\", exist_ok=True)\n",
    "os.makedirs(val_dir + \"/0\", exist_ok=True)\n",
    "os.makedirs(val_dir + \"/1\", exist_ok=True)\n",
    "os.makedirs(test_dir + \"/0\", exist_ok=True)\n",
    "os.makedirs(test_dir + \"/1\", exist_ok=True)\n",
    "  \n",
    "# getting a list of all files in each class\n",
    "for class_dir in [\"0\", \"1\"]:\n",
    "    files = os.listdir(os.path.join(data_dir, class_dir))\n",
    "    random.shuffle(files)  # shuffle files for random separation\n",
    "        \n",
    "    # split the files into three parts\n",
    "    train_split = int(0.7 * len(files))\n",
    "    val_split = int(0.15 * len(files)) + train_split\n",
    "        \n",
    "    train_files = files[:train_split]\n",
    "    val_files = files[train_split:val_split]\n",
    "    test_files = files[val_split:]\n",
    "        \n",
    "    # copy the files to the appropriate directories\n",
    "    for f in train_files:\n",
    "        shutil.copy(os.path.join(data_dir, class_dir, f), os.path.join(train_dir, class_dir, f))\n",
    "    for f in val_files:\n",
    "        shutil.copy(os.path.join(data_dir, class_dir, f), os.path.join(val_dir, class_dir, f))\n",
    "    for f in test_files:\n",
    "        shutil.copy(os.path.join(data_dir, class_dir, f), os.path.join(test_dir, class_dir, f))"
   ],
   "metadata": {
    "collapsed": false,
    "ExecuteTime": {
     "end_time": "2024-12-22T14:06:19.190069Z",
     "start_time": "2024-12-22T14:04:59.116190Z"
    }
   },
   "id": "1873f8cf321d52f",
   "execution_count": 13
  },
  {
   "cell_type": "markdown",
   "source": [
    "tensorboard --logdir=C:/Users/Anastasiia/Desktop/results/finetune_ADAM/output_dir"
   ],
   "metadata": {
    "collapsed": false
   },
   "id": "1247f037a45d4852"
  }
 ],
 "metadata": {
  "kernelspec": {
   "display_name": "Python 3",
   "language": "python",
   "name": "python3"
  },
  "language_info": {
   "codemirror_mode": {
    "name": "ipython",
    "version": 2
   },
   "file_extension": ".py",
   "mimetype": "text/x-python",
   "name": "python",
   "nbconvert_exporter": "python",
   "pygments_lexer": "ipython2",
   "version": "2.7.6"
  }
 },
 "nbformat": 4,
 "nbformat_minor": 5
}
