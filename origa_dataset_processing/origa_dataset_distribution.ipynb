{
 "cells": [
  {
   "metadata": {
    "ExecuteTime": {
     "end_time": "2024-08-21T21:48:46.527199Z",
     "start_time": "2024-08-21T21:48:46.521433Z"
    }
   },
   "cell_type": "code",
   "source": [
    "import os\n",
    "import shutil\n",
    "import random\n",
    "\n",
    "from PIL import Image"
   ],
   "id": "a1ad0e9298920a89",
   "outputs": [],
   "execution_count": 4
  },
  {
   "metadata": {
    "ExecuteTime": {
     "end_time": "2024-08-21T21:48:47.802545Z",
     "start_time": "2024-08-21T21:48:47.793540Z"
    }
   },
   "cell_type": "code",
   "source": [
    "def crop_and_resize(image_path, crop_box=(256, 0, 2756, 2048), size=(224, 224)):\n",
    "    image = Image.open(image_path)\n",
    "    \n",
    "    cropped_image = image.crop(crop_box)\n",
    "    \n",
    "    resized_image = cropped_image.resize(size, Image.ANTIALIAS)\n",
    "    \n",
    "    resized_image.save(image_path)"
   ],
   "id": "5f5068793dcb1a71",
   "outputs": [],
   "execution_count": 5
  },
  {
   "cell_type": "code",
   "id": "initial_id",
   "metadata": {
    "collapsed": true,
    "ExecuteTime": {
     "end_time": "2024-08-21T21:50:58.914616Z",
     "start_time": "2024-08-21T21:48:48.990592Z"
    }
   },
   "source": [
    "data_dir = 'ORIGA' \n",
    "\n",
    "# resize and crop all the images\n",
    "for class_dir in [\"0\", \"1\"]:\n",
    "    image_files = os.listdir(os.path.join(data_dir, class_dir))\n",
    "    for image_file in image_files:\n",
    "        image_path = os.path.join(data_dir, class_dir, image_file)\n",
    "        crop_and_resize(image_path)\n",
    "\n",
    "train_dir = os.path.join(data_dir, 'train')\n",
    "val_dir = os.path.join(data_dir, 'val')\n",
    "test_dir = os.path.join(data_dir, 'test')\n",
    "\n",
    "os.makedirs(train_dir + \"/0\", exist_ok=True)\n",
    "os.makedirs(train_dir + \"/1\", exist_ok=True)\n",
    "os.makedirs(val_dir + \"/0\", exist_ok=True)\n",
    "os.makedirs(val_dir + \"/1\", exist_ok=True)\n",
    "os.makedirs(test_dir + \"/0\", exist_ok=True)\n",
    "os.makedirs(test_dir + \"/1\", exist_ok=True)\n",
    "  \n",
    "# getting a list of all files in each class\n",
    "for class_dir in [\"0\", \"1\"]:\n",
    "    files = os.listdir(os.path.join(data_dir, class_dir))\n",
    "    random.shuffle(files)  # shuffle files for random separation\n",
    "        \n",
    "    # split the files into three parts\n",
    "    train_split = int(0.7 * len(files))\n",
    "    val_split = int(0.15 * len(files)) + train_split\n",
    "        \n",
    "    train_files = files[:train_split]\n",
    "    val_files = files[train_split:val_split]\n",
    "    test_files = files[val_split:]\n",
    "        \n",
    "    # copy the files to the appropriate directories\n",
    "    for f in train_files:\n",
    "        shutil.copy(os.path.join(data_dir, class_dir, f), os.path.join(train_dir, class_dir, f))\n",
    "    for f in val_files:\n",
    "        shutil.copy(os.path.join(data_dir, class_dir, f), os.path.join(val_dir, class_dir, f))\n",
    "    for f in test_files:\n",
    "        shutil.copy(os.path.join(data_dir, class_dir, f), os.path.join(test_dir, class_dir, f))"
   ],
   "outputs": [],
   "execution_count": 6
  },
  {
   "metadata": {},
   "cell_type": "code",
   "source": [
    "shutil.rmtree('ORIGA/0')\n",
    "shutil.rmtree('ORIGA/1')"
   ],
   "id": "83fd6178c8a87b5d",
   "outputs": [],
   "execution_count": null
  }
 ],
 "metadata": {
  "kernelspec": {
   "display_name": "Python 3",
   "language": "python",
   "name": "python3"
  },
  "language_info": {
   "codemirror_mode": {
    "name": "ipython",
    "version": 2
   },
   "file_extension": ".py",
   "mimetype": "text/x-python",
   "name": "python",
   "nbconvert_exporter": "python",
   "pygments_lexer": "ipython2",
   "version": "2.7.6"
  }
 },
 "nbformat": 4,
 "nbformat_minor": 5
}
