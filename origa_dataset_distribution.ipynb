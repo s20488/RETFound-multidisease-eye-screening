{
 "cells": [
  {
   "metadata": {
    "ExecuteTime": {
     "end_time": "2024-08-21T21:48:46.527199Z",
     "start_time": "2024-08-21T21:48:46.521433Z"
    }
   },
   "cell_type": "code",
   "source": [
    "import os\n",
    "import shutil\n",
    "import random\n",
    "\n",
    "from PIL import Image"
   ],
   "id": "a1ad0e9298920a89",
   "outputs": [],
   "execution_count": 4
  },
  {
   "metadata": {
    "ExecuteTime": {
     "end_time": "2024-08-21T21:48:47.802545Z",
     "start_time": "2024-08-21T21:48:47.793540Z"
    }
   },
   "cell_type": "code",
   "source": [
    "def crop_and_resize(image_path, crop_box=(256, 0, 2756, 2048), size=(224, 224)):\n",
    "    image = Image.open(image_path)\n",
    "    \n",
    "    cropped_image = image.crop(crop_box)\n",
    "    \n",
    "    resized_image = cropped_image.resize(size, Image.ANTIALIAS)\n",
    "    \n",
    "    resized_image.save(image_path)"
   ],
   "id": "5f5068793dcb1a71",
   "outputs": [],
   "execution_count": 5
  },
  {
   "cell_type": "code",
   "id": "initial_id",
   "metadata": {
    "collapsed": true,
    "ExecuteTime": {
     "end_time": "2024-08-21T21:50:58.914616Z",
     "start_time": "2024-08-21T21:48:48.990592Z"
    }
   },
   "source": [
    "data_dir = 'ORIGA' \n",
    "\n",
    "# resize and crop all the images\n",
    "for class_dir in [\"0\", \"1\"]:\n",
    "    image_files = os.listdir(os.path.join(data_dir, class_dir))\n",
    "    for image_file in image_files:\n",
    "        image_path = os.path.join(data_dir, class_dir, image_file)\n",
    "        crop_and_resize(image_path)\n",
    "\n",
    "train_dir = os.path.join(data_dir, 'train')\n",
    "val_dir = os.path.join(data_dir, 'val')\n",
    "test_dir = os.path.join(data_dir, 'test')\n",
    "\n",
    "os.makedirs(train_dir + \"/0\", exist_ok=True)\n",
    "os.makedirs(train_dir + \"/1\", exist_ok=True)\n",
    "os.makedirs(val_dir + \"/0\", exist_ok=True)\n",
    "os.makedirs(val_dir + \"/1\", exist_ok=True)\n",
    "os.makedirs(test_dir + \"/0\", exist_ok=True)\n",
    "os.makedirs(test_dir + \"/1\", exist_ok=True)\n",
    "  \n",
    "# getting a list of all files in each class\n",
    "for class_dir in [\"0\", \"1\"]:\n",
    "    files = os.listdir(os.path.join(data_dir, class_dir))\n",
    "    random.shuffle(files)  # shuffle files for random separation\n",
    "        \n",
    "    # split the files into three parts\n",
    "    train_split = int(0.7 * len(files))\n",
    "    val_split = int(0.15 * len(files)) + train_split\n",
    "        \n",
    "    train_files = files[:train_split]\n",
    "    val_files = files[train_split:val_split]\n",
    "    test_files = files[val_split:]\n",
    "        \n",
    "    # copy the files to the appropriate directories\n",
    "    for f in train_files:\n",
    "        shutil.copy(os.path.join(data_dir, class_dir, f), os.path.join(train_dir, class_dir, f))\n",
    "    for f in val_files:\n",
    "        shutil.copy(os.path.join(data_dir, class_dir, f), os.path.join(val_dir, class_dir, f))\n",
    "    for f in test_files:\n",
    "        shutil.copy(os.path.join(data_dir, class_dir, f), os.path.join(test_dir, class_dir, f))"
   ],
   "outputs": [],
   "execution_count": 6
  },
  {
   "metadata": {
    "ExecuteTime": {
     "end_time": "2024-08-21T21:52:03.747198Z",
     "start_time": "2024-08-21T21:52:03.730192Z"
    }
   },
   "cell_type": "code",
   "source": [
    "shutil.rmtree('ORIGA/0')\n",
    "shutil.rmtree('ORIGA/1')"
   ],
   "id": "83fd6178c8a87b5d",
   "outputs": [
    {
     "ename": "FileNotFoundError",
     "evalue": "[Errno 2] No such file or directory: 'ORIGA/0'",
     "output_type": "error",
     "traceback": [
      "\u001B[0;31m---------------------------------------------------------------------------\u001B[0m",
      "\u001B[0;31mFileNotFoundError\u001B[0m                         Traceback (most recent call last)",
      "\u001B[0;32m/tmp/ipykernel_32210/3589037742.py\u001B[0m in \u001B[0;36m<module>\u001B[0;34m\u001B[0m\n\u001B[0;32m----> 1\u001B[0;31m \u001B[0mshutil\u001B[0m\u001B[0;34m.\u001B[0m\u001B[0mrmtree\u001B[0m\u001B[0;34m(\u001B[0m\u001B[0;34m'ORIGA/0'\u001B[0m\u001B[0;34m)\u001B[0m\u001B[0;34m\u001B[0m\u001B[0;34m\u001B[0m\u001B[0m\n\u001B[0m\u001B[1;32m      2\u001B[0m \u001B[0mshutil\u001B[0m\u001B[0;34m.\u001B[0m\u001B[0mrmtree\u001B[0m\u001B[0;34m(\u001B[0m\u001B[0;34m'ORIGA/1'\u001B[0m\u001B[0;34m)\u001B[0m\u001B[0;34m\u001B[0m\u001B[0;34m\u001B[0m\u001B[0m\n",
      "\u001B[0;32m~/miniconda3/envs/retfound/lib/python3.7/shutil.py\u001B[0m in \u001B[0;36mrmtree\u001B[0;34m(path, ignore_errors, onerror)\u001B[0m\n\u001B[1;32m    483\u001B[0m             \u001B[0morig_st\u001B[0m \u001B[0;34m=\u001B[0m \u001B[0mos\u001B[0m\u001B[0;34m.\u001B[0m\u001B[0mlstat\u001B[0m\u001B[0;34m(\u001B[0m\u001B[0mpath\u001B[0m\u001B[0;34m)\u001B[0m\u001B[0;34m\u001B[0m\u001B[0;34m\u001B[0m\u001B[0m\n\u001B[1;32m    484\u001B[0m         \u001B[0;32mexcept\u001B[0m \u001B[0mException\u001B[0m\u001B[0;34m:\u001B[0m\u001B[0;34m\u001B[0m\u001B[0;34m\u001B[0m\u001B[0m\n\u001B[0;32m--> 485\u001B[0;31m             \u001B[0monerror\u001B[0m\u001B[0;34m(\u001B[0m\u001B[0mos\u001B[0m\u001B[0;34m.\u001B[0m\u001B[0mlstat\u001B[0m\u001B[0;34m,\u001B[0m \u001B[0mpath\u001B[0m\u001B[0;34m,\u001B[0m \u001B[0msys\u001B[0m\u001B[0;34m.\u001B[0m\u001B[0mexc_info\u001B[0m\u001B[0;34m(\u001B[0m\u001B[0;34m)\u001B[0m\u001B[0;34m)\u001B[0m\u001B[0;34m\u001B[0m\u001B[0;34m\u001B[0m\u001B[0m\n\u001B[0m\u001B[1;32m    486\u001B[0m             \u001B[0;32mreturn\u001B[0m\u001B[0;34m\u001B[0m\u001B[0;34m\u001B[0m\u001B[0m\n\u001B[1;32m    487\u001B[0m         \u001B[0;32mtry\u001B[0m\u001B[0;34m:\u001B[0m\u001B[0;34m\u001B[0m\u001B[0;34m\u001B[0m\u001B[0m\n",
      "\u001B[0;32m~/miniconda3/envs/retfound/lib/python3.7/shutil.py\u001B[0m in \u001B[0;36mrmtree\u001B[0;34m(path, ignore_errors, onerror)\u001B[0m\n\u001B[1;32m    481\u001B[0m         \u001B[0;31m# lstat()/open()/fstat() trick.\u001B[0m\u001B[0;34m\u001B[0m\u001B[0;34m\u001B[0m\u001B[0;34m\u001B[0m\u001B[0m\n\u001B[1;32m    482\u001B[0m         \u001B[0;32mtry\u001B[0m\u001B[0;34m:\u001B[0m\u001B[0;34m\u001B[0m\u001B[0;34m\u001B[0m\u001B[0m\n\u001B[0;32m--> 483\u001B[0;31m             \u001B[0morig_st\u001B[0m \u001B[0;34m=\u001B[0m \u001B[0mos\u001B[0m\u001B[0;34m.\u001B[0m\u001B[0mlstat\u001B[0m\u001B[0;34m(\u001B[0m\u001B[0mpath\u001B[0m\u001B[0;34m)\u001B[0m\u001B[0;34m\u001B[0m\u001B[0;34m\u001B[0m\u001B[0m\n\u001B[0m\u001B[1;32m    484\u001B[0m         \u001B[0;32mexcept\u001B[0m \u001B[0mException\u001B[0m\u001B[0;34m:\u001B[0m\u001B[0;34m\u001B[0m\u001B[0;34m\u001B[0m\u001B[0m\n\u001B[1;32m    485\u001B[0m             \u001B[0monerror\u001B[0m\u001B[0;34m(\u001B[0m\u001B[0mos\u001B[0m\u001B[0;34m.\u001B[0m\u001B[0mlstat\u001B[0m\u001B[0;34m,\u001B[0m \u001B[0mpath\u001B[0m\u001B[0;34m,\u001B[0m \u001B[0msys\u001B[0m\u001B[0;34m.\u001B[0m\u001B[0mexc_info\u001B[0m\u001B[0;34m(\u001B[0m\u001B[0;34m)\u001B[0m\u001B[0;34m)\u001B[0m\u001B[0;34m\u001B[0m\u001B[0;34m\u001B[0m\u001B[0m\n",
      "\u001B[0;31mFileNotFoundError\u001B[0m: [Errno 2] No such file or directory: 'ORIGA/0'"
     ]
    }
   ],
   "execution_count": 8
  }
 ],
 "metadata": {
  "kernelspec": {
   "display_name": "Python 3",
   "language": "python",
   "name": "python3"
  },
  "language_info": {
   "codemirror_mode": {
    "name": "ipython",
    "version": 2
   },
   "file_extension": ".py",
   "mimetype": "text/x-python",
   "name": "python",
   "nbconvert_exporter": "python",
   "pygments_lexer": "ipython2",
   "version": "2.7.6"
  }
 },
 "nbformat": 4,
 "nbformat_minor": 5
}
