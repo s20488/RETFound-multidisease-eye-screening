{
 "cells": [
  {
   "cell_type": "code",
   "execution_count": 25,
   "id": "initial_id",
   "metadata": {
    "collapsed": true,
    "ExecuteTime": {
     "end_time": "2024-05-16T10:57:15.093168Z",
     "start_time": "2024-05-16T10:57:15.081432600Z"
    }
   },
   "outputs": [],
   "source": [
    "import pandas as pd\n",
    "from sklearn.cluster import KMeans\n",
    "import re"
   ]
  },
  {
   "cell_type": "code",
   "outputs": [],
   "source": [
    "data = pd.read_csv('Feature_latent.csv')\n",
    "\n",
    "# Feature extraction\n",
    "features = data['Latent_feature'].apply(lambda x: [float(i) for i in re.findall(r\"[-+]?\\d*\\.\\d+|\\d+\", x)]).tolist()\n",
    "\n",
    "# Creating KMeans clustering model\n",
    "kmeans = KMeans(n_clusters=2, random_state=0)\n",
    "\n",
    "# Training the model and obtaining a pseudo label\n",
    "pseudo_labels = kmeans.fit_predict(features)\n",
    "\n",
    "# Add pseudo tags to DataFrame\n",
    "data['Pseudo_Label'] = pseudo_labels\n",
    "\n",
    "data.to_csv('pseudo_labels.csv', index=False)"
   ],
   "metadata": {
    "collapsed": false,
    "ExecuteTime": {
     "end_time": "2024-05-16T10:58:07.189979100Z",
     "start_time": "2024-05-16T10:58:07.166546Z"
    }
   },
   "id": "1f59f962c220ed22",
   "execution_count": 27
  }
 ],
 "metadata": {
  "kernelspec": {
   "display_name": "Python 3",
   "language": "python",
   "name": "python3"
  },
  "language_info": {
   "codemirror_mode": {
    "name": "ipython",
    "version": 2
   },
   "file_extension": ".py",
   "mimetype": "text/x-python",
   "name": "python",
   "nbconvert_exporter": "python",
   "pygments_lexer": "ipython2",
   "version": "2.7.6"
  }
 },
 "nbformat": 4,
 "nbformat_minor": 5
}
