{
 "cells": [
  {
   "cell_type": "code",
   "execution_count": 4,
   "id": "initial_id",
   "metadata": {
    "collapsed": true,
    "ExecuteTime": {
     "end_time": "2024-05-22T21:12:07.019127900Z",
     "start_time": "2024-05-22T21:12:07.008560800Z"
    }
   },
   "outputs": [],
   "source": [
    "import os\n",
    "import shutil\n",
    "import pandas as pd\n",
    "from sklearn.model_selection import train_test_split"
   ]
  },
  {
   "cell_type": "code",
   "outputs": [],
   "source": [
    "pseudo_labels_file = 'pseudo_labels.csv'\n",
    "data = pd.read_csv(pseudo_labels_file)\n",
    "\n",
    "file_names = data['Name'].tolist()\n",
    "labels = data['Pseudo_Label'].tolist()\n",
    "\n",
    "# Division into training, validation and test sets\n",
    "train_files, test_files, train_labels, test_labels = train_test_split(file_names, labels, test_size=0.3, random_state=12)\n",
    "train_files, val_files, train_labels, val_labels = train_test_split(train_files, train_labels, test_size=0.3, random_state=12)\n",
    "\n",
    "base_dir = 'dataset'\n",
    "train_dir = os.path.join(base_dir, 'train')\n",
    "val_dir = os.path.join(base_dir, 'val')\n",
    "test_dir = os.path.join(base_dir, 'test')\n",
    "\n",
    "os.makedirs(train_dir, exist_ok=True)\n",
    "os.makedirs(val_dir, exist_ok=True)\n",
    "os.makedirs(test_dir, exist_ok=True)\n",
    "\n",
    "# Creating folders for each label within the training, validation and test sets\n",
    "for label in set(train_labels):\n",
    "    os.makedirs(os.path.join(train_dir, str(label)), exist_ok=True)\n",
    "for label in set(val_labels):\n",
    "    os.makedirs(os.path.join(val_dir, str(label)), exist_ok=True)\n",
    "for label in set(test_labels):\n",
    "    os.makedirs(os.path.join(test_dir, str(label)), exist_ok=True)\n",
    "\n",
    "# Copying files to the appropriate folders\n",
    "for file, label in zip(train_files, train_labels):\n",
    "    shutil.copy(os.path.join('Białystok_PLUS_photos/przykładowe_zdjęcia/PNG', file), os.path.join(train_dir, str(label)))\n",
    "for file, label in zip(val_files, val_labels):\n",
    "    shutil.copy(os.path.join('Białystok_PLUS_photos/przykładowe_zdjęcia/PNG', file), os.path.join(val_dir, str(label)))\n",
    "for file, label in zip(test_files, test_labels):\n",
    "    shutil.copy(os.path.join('Białystok_PLUS_photos/przykładowe_zdjęcia/PNG', file), os.path.join(test_dir, str(label)))\n"
   ],
   "metadata": {
    "collapsed": false,
    "ExecuteTime": {
     "end_time": "2024-05-22T21:13:56.007680300Z",
     "start_time": "2024-05-22T21:13:55.762958600Z"
    }
   },
   "id": "97084a0daa92cf96",
   "execution_count": 6
  }
 ],
 "metadata": {
  "kernelspec": {
   "display_name": "Python 3",
   "language": "python",
   "name": "python3"
  },
  "language_info": {
   "codemirror_mode": {
    "name": "ipython",
    "version": 2
   },
   "file_extension": ".py",
   "mimetype": "text/x-python",
   "name": "python",
   "nbconvert_exporter": "python",
   "pygments_lexer": "ipython2",
   "version": "2.7.6"
  }
 },
 "nbformat": 4,
 "nbformat_minor": 5
}
